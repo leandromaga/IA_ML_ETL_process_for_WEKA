{
 "cells": [
  {
   "cell_type": "code",
   "execution_count": null,
   "metadata": {},
   "outputs": [],
   "source": [
    "import psycopg2\n",
    "import pandas as pd"
   ]
  },
  {
   "cell_type": "code",
   "execution_count": null,
   "metadata": {},
   "outputs": [],
   "source": [
    "#Passando o nome dos arquivos\n",
    "df_lista = ['dadosPNADc_brutos2019_1.csv', 'dadosPNADc_brutos2019_2.csv']\n",
    "\n",
    "# Estados que serão filtrados para a análise\n",
    "estados =  ['Rondônia', 'Minas Gerais', 'São Paulo', 'Rio de Janeiro', 'Bahia']"
   ]
  },
  {
   "cell_type": "code",
   "execution_count": null,
   "metadata": {},
   "outputs": [],
   "source": [
    "def criar_tabela(cursor, df, nome_tabela):\n",
    "    mapeamento_tipos = {\n",
    "        'int64': 'INTEGER',\n",
    "        'float64': 'FLOAT',\n",
    "        'object': 'TEXT',\n",
    "    }\n",
    "    tipos = df.dtypes.apply(lambda x: mapeamento_tipos.get(str(x), 'TEXT'))\n",
    "    query = f\"CREATE TABLE IF NOT EXISTS {nome_tabela} ({', '.join([f'{col} {tipo}' for col, tipo in tipos.items()])})\"\n",
    "    cursor.execute(query)"
   ]
  },
  {
   "cell_type": "code",
   "execution_count": null,
   "metadata": {},
   "outputs": [],
   "source": [
    "def inserir_dados(cursor, df, nome_tabela):\n",
    "    placeholders = ', '.join(['%s'] * len(df.columns))\n",
    "    query = f\"INSERT INTO {nome_tabela} VALUES ({placeholders});\"\n",
    "\n",
    "    for _, row in df.iterrows():\n",
    "        cursor.execute(query, tuple(row))"
   ]
  },
  {
   "cell_type": "code",
   "execution_count": null,
   "metadata": {},
   "outputs": [],
   "source": [
    "def conecta_db(database, user, password, host):\n",
    "  con = psycopg2.connect(host=host, \n",
    "                         database=database,\n",
    "                         user=user, \n",
    "                         password=password)\n",
    "  return con"
   ]
  },
  {
   "cell_type": "code",
   "execution_count": null,
   "metadata": {},
   "outputs": [],
   "source": [
    "# Realizando conexão com o banco de dados\n",
    "\n",
    "# db_config = {\n",
    "\n",
    "\n",
    "#     'database': 'weka-pnad',\n",
    "#     'user': 'postgres',\n",
    "#     'password': 'admin',\n",
    "#     'host': 'localhost'\n",
    "# }\n",
    "\n",
    "# conn = conecta_db(**db_config)\n",
    "\n",
    "# cur = conn.cursor()"
   ]
  },
  {
   "cell_type": "code",
   "execution_count": null,
   "metadata": {},
   "outputs": [],
   "source": [
    "def processo_et(df_lista):\n",
    "    df_tratado = []\n",
    "    for i in df_lista:\n",
    "        df = pd.read_csv(i)\n",
    "        coluna_indice = 'Unnamed: 0'\n",
    "\n",
    "        if coluna_indice in df.columns:\n",
    "            df.drop(columns=['Unnamed: 0'], inplace=True)\n",
    "            print(\"Coluna deletada\")\n",
    "        else:\n",
    "            print(\"Coluna não encontrada\")\n",
    "            \n",
    "\n",
    "        df['RM_RIDE'] = df['RM_RIDE'].replace(r'\\n', ' ', regex=True)\n",
    "       \n",
    "        df_tratado.append(df)\n",
    "\n",
    "    \n",
    "    return df_tratado\n",
    "        "
   ]
  },
  {
   "cell_type": "code",
   "execution_count": null,
   "metadata": {},
   "outputs": [],
   "source": [
    "# Criando o bando de dados e importando a coluna\n",
    "\n",
    "# nome_tabela = \"dados_pnad_1\"\n",
    "\n",
    "# criar_tabela(cur, df, nome_tabela)\n",
    "\n",
    "# inserir_dados(cur, df, nome_tabela)\n",
    "\n",
    "# conn.commit()\n",
    "# cur.close()"
   ]
  },
  {
   "cell_type": "code",
   "execution_count": null,
   "metadata": {},
   "outputs": [],
   "source": [
    "# Preparando o arquivo para o weka\n",
    "def prepara_df_para_weka(nome_arq, lista, estados):\n",
    "    for j in nome_arq:\n",
    "        for i in lista:\n",
    "            df = i\n",
    "            df = df.query(\"UF in @estados\")\n",
    "\n",
    "            df.dropna(axis=1, how='all')\n",
    "\n",
    "            colunas_inteiro = df.select_dtypes(include=['int64']).columns\n",
    "            colunas_float = df.select_dtypes(include=['float64']).columns\n",
    "            colunas_object = df.select_dtypes(include=['object']).columns\n",
    "\n",
    "            df_aux = df[colunas_object]\n",
    "\n",
    "            df_exercicio_2_3 = df.drop(columns=colunas_inteiro)\n",
    "            df_exercicio_2_3 = df_exercicio_2_3.drop(columns=colunas_float)\n",
    "            df_exercicio_4 = df.drop(columns=colunas_object)\n",
    "\n",
    "\n",
    "            df_exercicio_2_3.to_csv(f'csvs_tratados\\{j}_trat_exercicio_2_3.csv', index=False)\n",
    "            df_exercicio_4.to_csv(f'csvs_tratados\\{j}_trat_exercicio_4.csv', index=False)\n",
    "        "
   ]
  },
  {
   "cell_type": "code",
   "execution_count": null,
   "metadata": {},
   "outputs": [],
   "source": [
    "df_final = proccess_etl(df_lista)"
   ]
  },
  {
   "cell_type": "code",
   "execution_count": null,
   "metadata": {},
   "outputs": [],
   "source": [
    "df_cleaner_for_weka(df_lista, df_final, estados)"
   ]
  }
 ],
 "metadata": {
  "kernelspec": {
   "display_name": "Python 3",
   "language": "python",
   "name": "python3"
  },
  "language_info": {
   "codemirror_mode": {
    "name": "ipython",
    "version": 3
   },
   "file_extension": ".py",
   "mimetype": "text/x-python",
   "name": "python",
   "nbconvert_exporter": "python",
   "pygments_lexer": "ipython3",
   "version": "3.12.1"
  }
 },
 "nbformat": 4,
 "nbformat_minor": 2
}
